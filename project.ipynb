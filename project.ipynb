{
 "cells": [
  {
   "cell_type": "code",
   "execution_count": 1,
   "metadata": {},
   "outputs": [],
   "source": [
    "import pymysql"
   ]
  },
  {
   "cell_type": "code",
   "execution_count": 2,
   "metadata": {},
   "outputs": [],
   "source": [
    "mydb=pymysql.connect(\n",
    "    host= \"localhost\",\n",
    "    port= 3360,\n",
    "    user= \"root\",\n",
    "    password=\"1234\"\n",
    ")\n",
    "mycursor=mydb.cursor()"
   ]
  },
  {
   "cell_type": "code",
   "execution_count": 10,
   "metadata": {},
   "outputs": [
    {
     "name": "stdout",
     "output_type": "stream",
     "text": [
      "('aa_institute',)\n",
      "('bank',)\n",
      "('earlycode_academy2',)\n",
      "('earlycodeacademy',)\n",
      "('earlycodekitchen',)\n",
      "('employee_detail4',)\n",
      "('employee_details',)\n",
      "('employee_details1',)\n",
      "('employee_details2',)\n",
      "('employee_details3',)\n",
      "('information_schema',)\n",
      "('library_system',)\n",
      "('mandb_stores',)\n",
      "('mysql',)\n",
      "('oxforduni',)\n",
      "('performance_schema',)\n",
      "('phonestore',)\n",
      "('primeacademy',)\n",
      "('primeinstitutes',)\n",
      "('sakila',)\n",
      "('sys',)\n",
      "('world',)\n"
     ]
    }
   ],
   "source": [
    "mycursor.execute(\"show databases\")\n",
    "for x in mycursor:\n",
    "    print(x)\n"
   ]
  },
  {
   "cell_type": "code",
   "execution_count": 11,
   "metadata": {},
   "outputs": [
    {
     "name": "stdout",
     "output_type": "stream",
     "text": [
      "('aa_institute',)\n",
      "('bank',)\n",
      "('earlycode_academy2',)\n",
      "('earlycodeacademy',)\n",
      "('earlycodekitchen',)\n",
      "('employee_detail4',)\n",
      "('employee_details',)\n",
      "('employee_details1',)\n",
      "('employee_details2',)\n",
      "('employee_details3',)\n",
      "('foodordering',)\n",
      "('information_schema',)\n",
      "('library_system',)\n",
      "('mandb_stores',)\n",
      "('mysql',)\n",
      "('oxforduni',)\n",
      "('performance_schema',)\n",
      "('phonestore',)\n",
      "('primeacademy',)\n",
      "('primeinstitutes',)\n",
      "('sakila',)\n",
      "('sys',)\n",
      "('world',)\n"
     ]
    }
   ],
   "source": [
    "mycursor.execute(\"create database foodordering\")\n",
    "mycursor.execute(\"show databases\")\n",
    "for x in mycursor:\n",
    "    print(x)"
   ]
  },
  {
   "cell_type": "code",
   "execution_count": 12,
   "metadata": {},
   "outputs": [
    {
     "name": "stdout",
     "output_type": "stream",
     "text": [
      "('ID', 'int', 'NO', 'PRI', None, '')\n",
      "('name', 'varchar(355)', 'NO', '', None, '')\n",
      "('address', 'text', 'NO', '', None, '')\n",
      "('phone_no', 'varchar(11)', 'NO', '', None, '')\n"
     ]
    }
   ],
   "source": [
    "mycursor.execute(\"use foodordering\")\n",
    "mycursor.execute(\"create table students(ID int primary key not null, name varchar(355) not null,address text not null,phone_no varchar(11) not null)\")\n",
    "mycursor.execute(\"show columns from students\")\n",
    "for x in mycursor:\n",
    "    print(x)"
   ]
  },
  {
   "cell_type": "code",
   "execution_count": 18,
   "metadata": {},
   "outputs": [],
   "source": [
    "mycursor.execute(\"use foodordering\")\n",
    "def accept_record():\n",
    "    id=int(input(\"Enter CustomerID:\"))\n",
    "    name=input(\"Enter Customer name:\")\n",
    "    address=input(\"Enter delivery address:\")\n",
    "    phone_no=input(\"Enter Customer contact:\")\n",
    "    menu_items =input(\n",
    "        item('Chicken chilly','6000'),\n",
    "        item('rice and stew','4000'),\n",
    "        item('Rice and Stew with Chicken','10000'),\n",
    "        item('Jollof Rice with Chicken','10000'),\n",
    "        item('Rice and Banga with Turkey','10000'),\n",
    "        item('Fried rice beef','10000'),\n",
    "        item('Pounded yam with vegetable soup','10000'),\n",
    "        item('Fufu with vegetable soup','10000'),\n",
    "        item('Pounded yam with Ubono soup','10000'),\n",
    "        item('fufu with Egusi soup','10000')   \n",
    "    )\n",
    "    if menu_items == \"Chicken chilly\"and menu_items==6000:\n",
    "            print(\"Thank You for picking will be Delivered in 30mins\")\n",
    "    elif menu_items == \"Rice and Stew \"and menu_items==10000:\n",
    "            print(\"Thank You for picking will be Delivered in 30mins\")\n",
    "    elif menu_items == \"Jollof Rice with Chicken\"and menu_items==10000:\n",
    "            print(\"Thank You for picking will be Delivered in 30mins\")\n",
    "    elif menu_items == \"Rice and Banga with Turkey\"and menu_items==10000:\n",
    "            print(\"Thank You for picking will be Delivered in 30mins\")\n",
    "    elif menu_items == \" Fried rice beef\"and menu_items==10000:\n",
    "            print(\"Thank You for picking will be Delivered in 30mins\")\n",
    "    elif menu_items == \"Pounded yam with vegetablen soup\"and menu_items==10000:\n",
    "            print(\"Thank You for picking will be Delivered in 30mins\")\n",
    "    elif menu_items == \"Fufu with vegetable soup\"and menu_items==10000:\n",
    "            print(\"Thank You for picking will be Delivered in 30mins\")\n",
    "    elif menu_items == \"Pounded yam with Ubono soup\"and menu_items==10000:\n",
    "            print(\"Thank You for picking will be Delivered in 30mins\")\n",
    "    elif menu_items == \"fufu with Egusi soup\"and menu_items==5000:\n",
    "            print(\"Thank You for picking will be Delivered in 30mins\")\n",
    "    query=\"insert into students(ID,name,address,phone_no) values(%s,%s,%s,%s)\"\n",
    "    mycursor.execute(query,(ID,name,address,phone_no))\n",
    "    mydb.commit()\n",
    "    print(\"Record inserted successfully....\")\n",
    "def search_record():\n",
    "    id=int(input(\"Enter search ID:\"))\n",
    "    query='select * from students where id =\"%s\"'\n",
    "    mycursor.execute(query,(ID,))\n",
    "    result=mycursor.fetchall()\n",
    "    if lens(result)==0:\n",
    "        print(\"Record not found.....\")\n",
    "    else:\n",
    "        for x in result:\n",
    "            print(x)\n",
    "def display_record():\n",
    "     mycursor.execute(\"select * from students\")\n",
    "     for x in mycursor:\n",
    "            print(x)\n",
    "def update_record():\n",
    "     ID=int(input(\"Enter The ID Number:\"))\n",
    "     column_name=input(\"Enter the column name:\")\n",
    "     new_value=input(\"Enter the new value:\")\n",
    "     query=f\"update students set{column_name}=%s where ID=%s\"\n",
    "     mycursor.execute(query, (new_value,ID))\n",
    "     mydb.commit()\n",
    "def archieve_record():\n",
    "     ID=int(input(\"enter the ID number needed to be deleted......\"))\n",
    "     query=\"delete from students where ID=%s\"\n",
    "     mycursor.execute(query,(ID,))\n",
    "     mydb.commit()\n",
    "def main():\n",
    "        print(\"<<<<< Welcome Admin >>>>>\")\n",
    "        print(\"OPERATION LIST[accept,display,search,update_records,archive,logout]\")\n",
    "        OPERATION=True\n",
    "        while OPERATION:\n",
    "            option=input(\"select operation:\")\n",
    "            if option ==\"accept\".lower():\n",
    "                accept_record()\n",
    "            elif option ==\"display\".lower():\n",
    "                accept_record()\n",
    "            elif option ==\"search\".lower():\n",
    "                accept_record()\n",
    "            elif option ==\"update_record\".lower():\n",
    "                accept_record()\n",
    "            elif option ==\"archive\".lower():\n",
    "                accept_record()\n",
    "            elif option ==\"menu\".lower():\n",
    "                accept_record()\n",
    "            elif option ==\"logout\".lower():\n",
    "                OPERATION=False\n",
    "                print(\"OPERATIONTERMINATED.............\")\n",
    "                break"
   ]
  },
  {
   "cell_type": "code",
   "execution_count": 17,
   "metadata": {},
   "outputs": [
    {
     "name": "stdout",
     "output_type": "stream",
     "text": [
      "<<<<< Welcome Admin >>>>>\n",
      "OPERATION LIST[accept,display,search,update_records,archive,menu,logout]\n",
      "select operation:accept\n",
      "Enter CustomerID:1\n",
      "Enter Customer name:favour\n",
      "Enter delivery address:pw\n",
      "Enter Customer contact:0909\n"
     ]
    },
    {
     "ename": "NameError",
     "evalue": "name 'orderedDict' is not defined",
     "output_type": "error",
     "traceback": [
      "\u001b[1;31m---------------------------------------------------------------------------\u001b[0m",
      "\u001b[1;31mNameError\u001b[0m                                 Traceback (most recent call last)",
      "Cell \u001b[1;32mIn[17], line 1\u001b[0m\n\u001b[1;32m----> 1\u001b[0m main()\n",
      "Cell \u001b[1;32mIn[16], line 71\u001b[0m, in \u001b[0;36mmain\u001b[1;34m()\u001b[0m\n\u001b[0;32m     69\u001b[0m option\u001b[38;5;241m=\u001b[39m\u001b[38;5;28minput\u001b[39m(\u001b[38;5;124m\"\u001b[39m\u001b[38;5;124mselect operation:\u001b[39m\u001b[38;5;124m\"\u001b[39m)\n\u001b[0;32m     70\u001b[0m \u001b[38;5;28;01mif\u001b[39;00m option \u001b[38;5;241m==\u001b[39m\u001b[38;5;124m\"\u001b[39m\u001b[38;5;124maccept\u001b[39m\u001b[38;5;124m\"\u001b[39m\u001b[38;5;241m.\u001b[39mlower():\n\u001b[1;32m---> 71\u001b[0m     accept_record()\n\u001b[0;32m     72\u001b[0m \u001b[38;5;28;01melif\u001b[39;00m option \u001b[38;5;241m==\u001b[39m\u001b[38;5;124m\"\u001b[39m\u001b[38;5;124mdisplay\u001b[39m\u001b[38;5;124m\"\u001b[39m\u001b[38;5;241m.\u001b[39mlower():\n\u001b[0;32m     73\u001b[0m     accept_record()\n",
      "Cell \u001b[1;32mIn[16], line 7\u001b[0m, in \u001b[0;36maccept_record\u001b[1;34m()\u001b[0m\n\u001b[0;32m      5\u001b[0m address\u001b[38;5;241m=\u001b[39m\u001b[38;5;28minput\u001b[39m(\u001b[38;5;124m\"\u001b[39m\u001b[38;5;124mEnter delivery address:\u001b[39m\u001b[38;5;124m\"\u001b[39m)\n\u001b[0;32m      6\u001b[0m phone_no\u001b[38;5;241m=\u001b[39m\u001b[38;5;28minput\u001b[39m(\u001b[38;5;124m\"\u001b[39m\u001b[38;5;124mEnter Customer contact:\u001b[39m\u001b[38;5;124m\"\u001b[39m)\n\u001b[1;32m----> 7\u001b[0m menu_items \u001b[38;5;241m=\u001b[39morderedDict(\u001b[38;5;28mzip\u001b[39m(ascii_uppercase,[\n\u001b[0;32m      8\u001b[0m     item(\u001b[38;5;124m'\u001b[39m\u001b[38;5;124mChicken chilly\u001b[39m\u001b[38;5;124m'\u001b[39m,\u001b[38;5;124m'\u001b[39m\u001b[38;5;124m6000\u001b[39m\u001b[38;5;124m'\u001b[39m),\n\u001b[0;32m      9\u001b[0m     item(\u001b[38;5;124m'\u001b[39m\u001b[38;5;124mChicken 65\u001b[39m\u001b[38;5;124m'\u001b[39m,\u001b[38;5;124m'\u001b[39m\u001b[38;5;124m4000\u001b[39m\u001b[38;5;124m'\u001b[39m),\n\u001b[0;32m     10\u001b[0m     item(\u001b[38;5;124m'\u001b[39m\u001b[38;5;124mRice and Stew with Chicken\u001b[39m\u001b[38;5;124m'\u001b[39m,\u001b[38;5;124m'\u001b[39m\u001b[38;5;124m10000\u001b[39m\u001b[38;5;124m'\u001b[39m),\n\u001b[0;32m     11\u001b[0m     item(\u001b[38;5;124m'\u001b[39m\u001b[38;5;124mJollof Rice with Chicken\u001b[39m\u001b[38;5;124m'\u001b[39m,\u001b[38;5;124m'\u001b[39m\u001b[38;5;124m10000\u001b[39m\u001b[38;5;124m'\u001b[39m),\n\u001b[0;32m     12\u001b[0m     item(\u001b[38;5;124m'\u001b[39m\u001b[38;5;124mRice and Stew with Chicken\u001b[39m\u001b[38;5;124m'\u001b[39m,\u001b[38;5;124m'\u001b[39m\u001b[38;5;124m10000\u001b[39m\u001b[38;5;124m'\u001b[39m),\n\u001b[0;32m     13\u001b[0m     item(\u001b[38;5;124m'\u001b[39m\u001b[38;5;124mFried rice with Chicken\u001b[39m\u001b[38;5;124m'\u001b[39m,\u001b[38;5;124m'\u001b[39m\u001b[38;5;124m10000\u001b[39m\u001b[38;5;124m'\u001b[39m),\n\u001b[0;32m     14\u001b[0m     item(\u001b[38;5;124m'\u001b[39m\u001b[38;5;124mPounded yam with Egusi soup\u001b[39m\u001b[38;5;124m'\u001b[39m,\u001b[38;5;124m'\u001b[39m\u001b[38;5;124m10000\u001b[39m\u001b[38;5;124m'\u001b[39m),\n\u001b[0;32m     15\u001b[0m     item(\u001b[38;5;124m'\u001b[39m\u001b[38;5;124mFufu with vegetable soup\u001b[39m\u001b[38;5;124m'\u001b[39m,\u001b[38;5;124m'\u001b[39m\u001b[38;5;124m10000\u001b[39m\u001b[38;5;124m'\u001b[39m),\n\u001b[0;32m     16\u001b[0m     item(\u001b[38;5;124m'\u001b[39m\u001b[38;5;124mPounded yam with Ubono soup\u001b[39m\u001b[38;5;124m'\u001b[39m,\u001b[38;5;124m'\u001b[39m\u001b[38;5;124m10000\u001b[39m\u001b[38;5;124m'\u001b[39m),\n\u001b[0;32m     17\u001b[0m     item(\u001b[38;5;124m'\u001b[39m\u001b[38;5;124mPounded yam with Egusi soup\u001b[39m\u001b[38;5;124m'\u001b[39m,\u001b[38;5;124m'\u001b[39m\u001b[38;5;124m10000\u001b[39m\u001b[38;5;124m'\u001b[39m),\n\u001b[0;32m     18\u001b[0m     item(\u001b[38;5;124m'\u001b[39m\u001b[38;5;124mAbacha\u001b[39m\u001b[38;5;124m'\u001b[39m,\u001b[38;5;124m'\u001b[39m\u001b[38;5;124m5000\u001b[39m\u001b[38;5;124m'\u001b[39m)\n\u001b[0;32m     19\u001b[0m ]))\n\u001b[0;32m     20\u001b[0m query\u001b[38;5;241m=\u001b[39m\u001b[38;5;124m\"\u001b[39m\u001b[38;5;124minsert into students(ID,name,address,phone_no) values(\u001b[39m\u001b[38;5;132;01m%s\u001b[39;00m\u001b[38;5;124m,\u001b[39m\u001b[38;5;132;01m%s\u001b[39;00m\u001b[38;5;124m,\u001b[39m\u001b[38;5;132;01m%s\u001b[39;00m\u001b[38;5;124m,\u001b[39m\u001b[38;5;132;01m%s\u001b[39;00m\u001b[38;5;124m)\u001b[39m\u001b[38;5;124m\"\u001b[39m\n\u001b[0;32m     21\u001b[0m mycursor\u001b[38;5;241m.\u001b[39mexecute(query,(ID,name,address,phone_no))\n",
      "\u001b[1;31mNameError\u001b[0m: name 'orderedDict' is not defined"
     ]
    }
   ],
   "source": [
    "main()"
   ]
  },
  {
   "cell_type": "code",
   "execution_count": null,
   "metadata": {},
   "outputs": [],
   "source": []
  }
 ],
 "metadata": {
  "kernelspec": {
   "display_name": "Python 3 (ipykernel)",
   "language": "python",
   "name": "python3"
  },
  "language_info": {
   "codemirror_mode": {
    "name": "ipython",
    "version": 3
   },
   "file_extension": ".py",
   "mimetype": "text/x-python",
   "name": "python",
   "nbconvert_exporter": "python",
   "pygments_lexer": "ipython3",
   "version": "3.11.5"
  }
 },
 "nbformat": 4,
 "nbformat_minor": 2
}
